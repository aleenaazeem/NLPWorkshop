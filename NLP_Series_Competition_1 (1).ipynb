{
  "nbformat": 4,
  "nbformat_minor": 0,
  "metadata": {
    "colab": {
      "provenance": [],
      "collapsed_sections": [
        "V5aO7GAJodY-",
        "aLL8thlcnchC"
      ]
    },
    "kernelspec": {
      "name": "python3",
      "display_name": "Python 3"
    },
    "language_info": {
      "name": "python"
    }
  },
  "cells": [
    {
      "cell_type": "markdown",
      "source": [
        "# Step 0: Importing Required Packages"
      ],
      "metadata": {
        "id": "V5aO7GAJodY-"
      }
    },
    {
      "cell_type": "code",
      "source": [
        "import pandas as pd\n",
        "import gensim\n",
        "from scipy import stats"
      ],
      "metadata": {
        "id": "kp3Verrpoovo"
      },
      "execution_count": 1,
      "outputs": []
    },
    {
      "cell_type": "markdown",
      "source": [
        "# Step 1: Data Loading"
      ],
      "metadata": {
        "id": "aLL8thlcnchC"
      }
    },
    {
      "cell_type": "code",
      "execution_count": 9,
      "metadata": {
        "id": "eqyaIczBnZ8q"
      },
      "outputs": [],
      "source": [
        "news_df = pd.read_csv(\"/content/reddit_worldnews_start_to_2016-11-22.csv\")\n",
        "#file_2 = pd.read_csv(\"/content/reddit_worldnews_2016_2019.csv\")\n",
        "#file_3 = pd.read_csv(\"/content/reddit_worldnews_2019_2020.csv\")"
      ]
    },
    {
      "cell_type": "markdown",
      "source": [
        "# Step 2: Data Preprocessing"
      ],
      "metadata": {
        "id": "r8wfuo4SpJ99"
      }
    },
    {
      "cell_type": "code",
      "source": [
        "import nltk\n",
        "from nltk.corpus import stopwords\n",
        "from nltk.stem import WordNetLemmatizer\n",
        "import string\n",
        "\n",
        "# Download NLTK resources\n",
        "nltk.download('stopwords')\n",
        "nltk.download('wordnet')\n",
        "\n",
        "#########################################################\n",
        "def preprocess_df(df: pd.Series) -> pd.DataFrame:\n",
        "    \"\"\"\n",
        "    Preprocess the input DataFrame.\n",
        "\n",
        "    This function should perform text preprocessing task which may include:\n",
        "      - Converting text to lowercase\n",
        "      - Removing punctuations and whitespaces\n",
        "      - Removing stopwords\n",
        "      - Stemming or Lemmatizing\n",
        "      - (Other preprocessing steps as you wish)\n",
        "\n",
        "    Parameters:\n",
        "        df (pd.DataFrame): A DataFrame containing at least a column\n",
        "\n",
        "    Returns:\n",
        "        pd.DataFrame: The DataFrame with the preprocessed column.\n",
        "    \"\"\"\n",
        "    df = df.str.lower()\n",
        "    df = df.str.translate(str.maketrans('', '', string.punctuation))\n",
        "    df = df.str.replace('\\s+', ' ')\n",
        "    stop_words = set(stopwords.words('english'))\n",
        "    df = df.apply(lambda x: ' '.join([word for word in x.split() if word not in stop_words]))\n",
        "    lemmatizer = WordNetLemmatizer()\n",
        "    df = df.apply(lambda x: ' '.join([lemmatizer.lemmatize(word) for word in x.split()]))\n",
        "    # TODO: Implement the preprocessing logic\n",
        "    # df = df.str.lower()  # Convert to lowercase\n",
        "    # You can extend this with additional preprocessing steps.\n",
        "\n",
        "    # Example (simple preprocessing):\n",
        "    df = df.apply(gensim.utils.simple_preprocess)\n",
        "\n",
        "    return df\n",
        "\n",
        "processed_df = preprocess_df(news_df['title'])\n",
        "\n",
        "\n",
        "\n",
        "\n",
        "\n"
      ],
      "metadata": {
        "id": "JwWuWnrKMTBR",
        "colab": {
          "base_uri": "https://localhost:8080/"
        },
        "outputId": "8dcf760f-824f-4e51-a222-5e77af811566"
      },
      "execution_count": 13,
      "outputs": [
        {
          "output_type": "stream",
          "name": "stderr",
          "text": [
            "[nltk_data] Downloading package stopwords to /root/nltk_data...\n",
            "[nltk_data]   Package stopwords is already up-to-date!\n",
            "[nltk_data] Downloading package wordnet to /root/nltk_data...\n",
            "[nltk_data]   Package wordnet is already up-to-date!\n"
          ]
        }
      ]
    },
    {
      "cell_type": "code",
      "source": [
        "processed_df"
      ],
      "metadata": {
        "colab": {
          "base_uri": "https://localhost:8080/",
          "height": 458
        },
        "id": "Y4iZ8oh9JaB_",
        "outputId": "7195ddbb-e658-4c1a-ae12-7a8111862ca2"
      },
      "execution_count": 14,
      "outputs": [
        {
          "output_type": "execute_result",
          "data": {
            "text/plain": [
              "0                          [score, killed, pakistan, clash]\n",
              "1                      [japan, resume, refuelling, mission]\n",
              "2                              [press, egypt, gaza, border]\n",
              "3                  [jumpstart, economy, give, health, care]\n",
              "4          [council, europe, bash, euun, terror, blacklist]\n",
              "                                ...                        \n",
              "509231    [heil, trump, donald, trump, altright, white, ...\n",
              "509232      [people, speculating, could, madeleine, mccann]\n",
              "509233       [professor, receives, arab, researcher, award]\n",
              "509234    [nigel, farage, attack, response, trump, ambas...\n",
              "509235    [palestinian, wielding, knife, shot, dead, wes...\n",
              "Name: title, Length: 509236, dtype: object"
            ],
            "text/html": [
              "<div>\n",
              "<style scoped>\n",
              "    .dataframe tbody tr th:only-of-type {\n",
              "        vertical-align: middle;\n",
              "    }\n",
              "\n",
              "    .dataframe tbody tr th {\n",
              "        vertical-align: top;\n",
              "    }\n",
              "\n",
              "    .dataframe thead th {\n",
              "        text-align: right;\n",
              "    }\n",
              "</style>\n",
              "<table border=\"1\" class=\"dataframe\">\n",
              "  <thead>\n",
              "    <tr style=\"text-align: right;\">\n",
              "      <th></th>\n",
              "      <th>title</th>\n",
              "    </tr>\n",
              "  </thead>\n",
              "  <tbody>\n",
              "    <tr>\n",
              "      <th>0</th>\n",
              "      <td>[score, killed, pakistan, clash]</td>\n",
              "    </tr>\n",
              "    <tr>\n",
              "      <th>1</th>\n",
              "      <td>[japan, resume, refuelling, mission]</td>\n",
              "    </tr>\n",
              "    <tr>\n",
              "      <th>2</th>\n",
              "      <td>[press, egypt, gaza, border]</td>\n",
              "    </tr>\n",
              "    <tr>\n",
              "      <th>3</th>\n",
              "      <td>[jumpstart, economy, give, health, care]</td>\n",
              "    </tr>\n",
              "    <tr>\n",
              "      <th>4</th>\n",
              "      <td>[council, europe, bash, euun, terror, blacklist]</td>\n",
              "    </tr>\n",
              "    <tr>\n",
              "      <th>...</th>\n",
              "      <td>...</td>\n",
              "    </tr>\n",
              "    <tr>\n",
              "      <th>509231</th>\n",
              "      <td>[heil, trump, donald, trump, altright, white, ...</td>\n",
              "    </tr>\n",
              "    <tr>\n",
              "      <th>509232</th>\n",
              "      <td>[people, speculating, could, madeleine, mccann]</td>\n",
              "    </tr>\n",
              "    <tr>\n",
              "      <th>509233</th>\n",
              "      <td>[professor, receives, arab, researcher, award]</td>\n",
              "    </tr>\n",
              "    <tr>\n",
              "      <th>509234</th>\n",
              "      <td>[nigel, farage, attack, response, trump, ambas...</td>\n",
              "    </tr>\n",
              "    <tr>\n",
              "      <th>509235</th>\n",
              "      <td>[palestinian, wielding, knife, shot, dead, wes...</td>\n",
              "    </tr>\n",
              "  </tbody>\n",
              "</table>\n",
              "<p>509236 rows × 1 columns</p>\n",
              "</div><br><label><b>dtype:</b> object</label>"
            ]
          },
          "metadata": {},
          "execution_count": 14
        }
      ]
    },
    {
      "cell_type": "markdown",
      "source": [
        "# Step 3: Building the Model\n",
        "\n",
        "**Parameters:**\n",
        "\n",
        "**vector_size** = (int) - Dimensionality of the feature vectors.\n",
        "\n",
        "**alpha** = (float) - The initial learning rate\n",
        "\n",
        "**window** = (int) - The maximum distance between the current and predicted word within a sentence.\n",
        "\n",
        "**min_count** = (int) - Ignores all words with total frequency lower than this.\n",
        "\n",
        "**epochs** = (int) - Number of iterations over the whole dataset\n",
        "\n",
        "\n",
        "more info: https://www.kaggle.com/code/pierremegret/gensim-word2vec-tutorial#Training-the-model"
      ],
      "metadata": {
        "id": "WkkIjQNJ1ZGa"
      }
    },
    {
      "cell_type": "code",
      "source": [
        "model = gensim.models.Word2Vec(\n",
        "        window=10,\n",
        "        vector_size=100,\n",
        "        alpha=0.06,\n",
        "        min_count=7,\n",
        "        epochs=20,\n",
        "        workers=4,\n",
        "        )\n",
        "\n",
        "model.build_vocab(processed_df)\n",
        "\n",
        "'''model = gensim.models.Word2Vec(\n",
        "        window=10,\n",
        "        vector_size=100,\n",
        "        alpha=0.03,\n",
        "        min_count=7,\n",
        "        epochs=20,\n",
        "        workers=4,\n",
        "        )\n",
        "\n",
        "model.build_vocab(processed_df)'''\n",
        "\n"
      ],
      "metadata": {
        "id": "ISlY5L3_1fth",
        "colab": {
          "base_uri": "https://localhost:8080/",
          "height": 53
        },
        "outputId": "6686bc01-d7b0-4cb4-ae5d-c218f00b6e6e"
      },
      "execution_count": 26,
      "outputs": [
        {
          "output_type": "execute_result",
          "data": {
            "text/plain": [
              "'model = gensim.models.Word2Vec(\\n        window=10,\\n        vector_size=100,\\n        alpha=0.03,\\n        min_count=7,\\n        epochs=20,\\n        workers=4,\\n        )\\n\\nmodel.build_vocab(processed_df)'"
            ],
            "application/vnd.google.colaboratory.intrinsic+json": {
              "type": "string"
            }
          },
          "metadata": {},
          "execution_count": 26
        }
      ]
    },
    {
      "cell_type": "markdown",
      "source": [
        "# Step 4: Training the Model"
      ],
      "metadata": {
        "id": "MfI3vQLL-Ta9"
      }
    },
    {
      "cell_type": "code",
      "source": [
        "model.train(processed_df, total_examples=model.corpus_count, epochs=model.epochs)"
      ],
      "metadata": {
        "id": "GncxfTx0_XlA",
        "colab": {
          "base_uri": "https://localhost:8080/"
        },
        "outputId": "4459563f-ec1b-434b-f855-37bbbc983284"
      },
      "execution_count": 27,
      "outputs": [
        {
          "output_type": "execute_result",
          "data": {
            "text/plain": [
              "(95580772, 99473020)"
            ]
          },
          "metadata": {},
          "execution_count": 27
        }
      ]
    },
    {
      "cell_type": "markdown",
      "source": [
        "# Step 5: Testing the Model"
      ],
      "metadata": {
        "id": "q-CU13ay_eGA"
      }
    },
    {
      "cell_type": "code",
      "source": [
        "df_test = pd.read_csv(\"wordsim353crowd.csv\")\n",
        "df_test['Human (Mean)']/=df_test['Human (Mean)'].max()\n",
        "predictions = []\n",
        "gt_list = []\n",
        "s=0\n",
        "for row in df_test.iterrows():\n",
        "  try:\n",
        "    model_output = model.wv.similarity(w1=row[1]['Word 1'], w2=row[1]['Word 2'])\n",
        "    predictions.append(model_output)\n",
        "    gt_list.append(row[1]['Human (Mean)'])\n",
        "  except:\n",
        "    s+=1\n",
        "    pass\n",
        "spearmanr_score = stats.spearmanr(predictions, gt_list)\n",
        "print(\"___** FINAL RESULTS **___\\n\")\n",
        "print(s)\n",
        "print(f'spearmanr_score: {spearmanr_score.statistic}')"
      ],
      "metadata": {
        "id": "I5D50ylB_ebY",
        "colab": {
          "base_uri": "https://localhost:8080/"
        },
        "outputId": "30f57f99-5310-4eb2-c18a-14d10a4e9acb"
      },
      "execution_count": 29,
      "outputs": [
        {
          "output_type": "stream",
          "name": "stdout",
          "text": [
            "___** FINAL RESULTS **___\n",
            "\n",
            "38\n",
            "spearmanr_score: 0.590155002506057\n"
          ]
        }
      ]
    }
  ]
}